{
 "cells": [
  {
   "cell_type": "markdown",
   "metadata": {},
   "source": [
    "Exploratory Data Analysis"
   ]
  },
  {
   "cell_type": "code",
   "execution_count": 1,
   "metadata": {
    "vscode": {
     "languageId": "python"
    }
   },
   "outputs": [],
   "source": [
    "import os\n",
    "\n",
    "import pandas as pd\n",
    "import numpy as np\n",
    "import matplotlib.pyplot as plt\n",
    "import tqdm\n",
    "import parmap"
   ]
  },
  {
   "cell_type": "code",
   "execution_count": 2,
   "metadata": {
    "vscode": {
     "languageId": "python"
    }
   },
   "outputs": [
    {
     "name": "stderr",
     "output_type": "stream",
     "text": [
      "/tmp/ipykernel_2638/101237122.py:1: DtypeWarning: Columns (11) have mixed types. Specify dtype option on import or set low_memory=False.\n",
      "  df = pd.read_csv('/home/yjh/csv_data/0913_patent_All_코드 파악 ML 용역 송부용_Final_UTF8.csv', index_col = 0)\n"
     ]
    },
    {
     "data": {
      "text/html": [
       "<div>\n",
       "<style scoped>\n",
       "    .dataframe tbody tr th:only-of-type {\n",
       "        vertical-align: middle;\n",
       "    }\n",
       "\n",
       "    .dataframe tbody tr th {\n",
       "        vertical-align: top;\n",
       "    }\n",
       "\n",
       "    .dataframe thead th {\n",
       "        text-align: right;\n",
       "    }\n",
       "</style>\n",
       "<table border=\"1\" class=\"dataframe\">\n",
       "  <thead>\n",
       "    <tr style=\"text-align: right;\">\n",
       "      <th></th>\n",
       "      <th>Application Number</th>\n",
       "      <th>DWPI Accession Number</th>\n",
       "      <th>Publication Year</th>\n",
       "      <th>Application Year</th>\n",
       "      <th>Publication Date</th>\n",
       "      <th>Application Date</th>\n",
       "      <th>Publication Country Code</th>\n",
       "      <th>Title</th>\n",
       "      <th>Title - DWPI</th>\n",
       "      <th>Abstract</th>\n",
       "      <th>...</th>\n",
       "      <th>Abstract - DWPI Tech Focus</th>\n",
       "      <th>Abstract - DWPI Drawing Description</th>\n",
       "      <th>Dead/Alive</th>\n",
       "      <th>IPC - Current</th>\n",
       "      <th>CPC - Current</th>\n",
       "      <th>DWPI Class</th>\n",
       "      <th>DWPI Manual Codes</th>\n",
       "      <th>Strategic Importance</th>\n",
       "      <th>Domain Influence</th>\n",
       "      <th>Combined Patent Impact</th>\n",
       "    </tr>\n",
       "    <tr>\n",
       "      <th>Publication Number</th>\n",
       "      <th></th>\n",
       "      <th></th>\n",
       "      <th></th>\n",
       "      <th></th>\n",
       "      <th></th>\n",
       "      <th></th>\n",
       "      <th></th>\n",
       "      <th></th>\n",
       "      <th></th>\n",
       "      <th></th>\n",
       "      <th></th>\n",
       "      <th></th>\n",
       "      <th></th>\n",
       "      <th></th>\n",
       "      <th></th>\n",
       "      <th></th>\n",
       "      <th></th>\n",
       "      <th></th>\n",
       "      <th></th>\n",
       "      <th></th>\n",
       "      <th></th>\n",
       "    </tr>\n",
       "  </thead>\n",
       "  <tbody>\n",
       "    <tr>\n",
       "      <th>KR2438562B1</th>\n",
       "      <td>KR20217005632A</td>\n",
       "      <td>NaN</td>\n",
       "      <td>2022.0</td>\n",
       "      <td>2012.0</td>\n",
       "      <td>2022-08-31</td>\n",
       "      <td>2012-01-12</td>\n",
       "      <td>KR</td>\n",
       "      <td>ENTROPY ENCODING AND DECODING SCHEME | 엔트로피 인코...</td>\n",
       "      <td>NaN</td>\n",
       "      <td>Decomposing the value range of each syntax ele...</td>\n",
       "      <td>...</td>\n",
       "      <td>NaN</td>\n",
       "      <td>NaN</td>\n",
       "      <td>Alive</td>\n",
       "      <td>H04N001913 | H04N001970</td>\n",
       "      <td>NaN</td>\n",
       "      <td>NaN</td>\n",
       "      <td>NaN</td>\n",
       "      <td>NaN</td>\n",
       "      <td>NaN</td>\n",
       "      <td>NaN</td>\n",
       "    </tr>\n",
       "    <tr>\n",
       "      <th>KR2431060B1</th>\n",
       "      <td>KR20207018858A</td>\n",
       "      <td>2012J26645</td>\n",
       "      <td>2022.0</td>\n",
       "      <td>2012.0</td>\n",
       "      <td>2022-08-09</td>\n",
       "      <td>2012-01-11</td>\n",
       "      <td>KR</td>\n",
       "      <td>5-SUBSTITUTED 2-PHENYLQUINOLINE COMPLEXES MATE...</td>\n",
       "      <td>New compound comprising 5-substituted quinolin...</td>\n",
       "      <td>The present invention relates to compounds com...</td>\n",
       "      <td>...</td>\n",
       "      <td>NaN</td>\n",
       "      <td>NaN</td>\n",
       "      <td>Alive</td>\n",
       "      <td>C07F001500 | C07C004992 | C07F001900 | C09K001...</td>\n",
       "      <td>H01L00510085 | C07C004992 | C07F001500 | C07F0...</td>\n",
       "      <td>E12 C |  L03 C |  T01 E |  U11 E |  U12 E |  W...</td>\n",
       "      <td>E05-R | E24-A06A | L03-E05B | L03-G05F | L03-H...</td>\n",
       "      <td>1.0</td>\n",
       "      <td>1.0</td>\n",
       "      <td>1.0</td>\n",
       "    </tr>\n",
       "    <tr>\n",
       "      <th>KR2430870B1</th>\n",
       "      <td>KR20207018103A</td>\n",
       "      <td>2012Q17142</td>\n",
       "      <td>2022.0</td>\n",
       "      <td>2012.0</td>\n",
       "      <td>2022-08-09</td>\n",
       "      <td>2012-04-20</td>\n",
       "      <td>KR</td>\n",
       "      <td>ANTIBODIES FOR TREATMENT OF CANCER EXPRESSING ...</td>\n",
       "      <td>New claudin family of transmembrane protein an...</td>\n",
       "      <td>The present invention relates to tumors such a...</td>\n",
       "      <td>...</td>\n",
       "      <td>NaN</td>\n",
       "      <td>NaN</td>\n",
       "      <td>Indeterminate</td>\n",
       "      <td>C07K001628 | A61K003900 | A61K0039395 | C07K00...</td>\n",
       "      <td>C07K001630 | A61K0039395 | A61K003939591 | A61...</td>\n",
       "      <td>B04 C |  D16 C</td>\n",
       "      <td>B04-C01G | B04-E99 | B04-G01 | B04-G0100E | B0...</td>\n",
       "      <td>1.0</td>\n",
       "      <td>1.0</td>\n",
       "      <td>1.0</td>\n",
       "    </tr>\n",
       "    <tr>\n",
       "      <th>KR2428875B1</th>\n",
       "      <td>KR20207027463A</td>\n",
       "      <td>2012P05544</td>\n",
       "      <td>2022.0</td>\n",
       "      <td>2012.0</td>\n",
       "      <td>2022-08-05</td>\n",
       "      <td>2012-04-27</td>\n",
       "      <td>KR</td>\n",
       "      <td>Therapeutic nuclease compositions and methods ...</td>\n",
       "      <td>New hybrid nuclease molecule comprising nuclea...</td>\n",
       "      <td>Hybrid nuclease molecules and methods for trea...</td>\n",
       "      <td>...</td>\n",
       "      <td>NaN</td>\n",
       "      <td>NaN</td>\n",
       "      <td>Alive</td>\n",
       "      <td>C12N000922 | A61K003800 | A61K004768 | A61P003...</td>\n",
       "      <td>C12N000922 | A61K003800 | A61K004768 | A61K004...</td>\n",
       "      <td>B04 C |  D16 C</td>\n",
       "      <td>B04-C01G | B04-E02H | B04-E08 | B04-E99 | B04-...</td>\n",
       "      <td>1.0</td>\n",
       "      <td>1.0</td>\n",
       "      <td>1.0</td>\n",
       "    </tr>\n",
       "    <tr>\n",
       "      <th>KR2427003B1</th>\n",
       "      <td>KR20227010732A</td>\n",
       "      <td>2012L14270</td>\n",
       "      <td>2022.0</td>\n",
       "      <td>2012.0</td>\n",
       "      <td>2022-07-28</td>\n",
       "      <td>2012-01-20</td>\n",
       "      <td>KR</td>\n",
       "      <td>METHOD OF SIGNAL GENERATION AND SIGNAL GENERAT...</td>\n",
       "      <td>Signal generation method of multiple input and...</td>\n",
       "      <td>A transmission method for simultaneously trans...</td>\n",
       "      <td>...</td>\n",
       "      <td>NaN</td>\n",
       "      <td>NaN</td>\n",
       "      <td>Alive</td>\n",
       "      <td>H04L002726 | H04B00070413 | H04B000706 | H04L0...</td>\n",
       "      <td>H04B00070667 | H04B00070413 | H04B00070682 | H...</td>\n",
       "      <td>W01 E |  W02 E</td>\n",
       "      <td>W01-A01A | W01-A09D | W02-C03A5 | W02-K07C</td>\n",
       "      <td>1.0</td>\n",
       "      <td>1.0</td>\n",
       "      <td>1.0</td>\n",
       "    </tr>\n",
       "  </tbody>\n",
       "</table>\n",
       "<p>5 rows × 28 columns</p>\n",
       "</div>"
      ],
      "text/plain": [
       "                   Application Number DWPI Accession Number  Publication Year  \\\n",
       "Publication Number                                                              \n",
       "KR2438562B1            KR20217005632A                   NaN            2022.0   \n",
       "KR2431060B1            KR20207018858A            2012J26645            2022.0   \n",
       "KR2430870B1            KR20207018103A            2012Q17142            2022.0   \n",
       "KR2428875B1            KR20207027463A            2012P05544            2022.0   \n",
       "KR2427003B1            KR20227010732A            2012L14270            2022.0   \n",
       "\n",
       "                    Application Year Publication Date Application Date  \\\n",
       "Publication Number                                                       \n",
       "KR2438562B1                   2012.0       2022-08-31       2012-01-12   \n",
       "KR2431060B1                   2012.0       2022-08-09       2012-01-11   \n",
       "KR2430870B1                   2012.0       2022-08-09       2012-04-20   \n",
       "KR2428875B1                   2012.0       2022-08-05       2012-04-27   \n",
       "KR2427003B1                   2012.0       2022-07-28       2012-01-20   \n",
       "\n",
       "                   Publication Country Code  \\\n",
       "Publication Number                            \n",
       "KR2438562B1                              KR   \n",
       "KR2431060B1                              KR   \n",
       "KR2430870B1                              KR   \n",
       "KR2428875B1                              KR   \n",
       "KR2427003B1                              KR   \n",
       "\n",
       "                                                                Title  \\\n",
       "Publication Number                                                      \n",
       "KR2438562B1         ENTROPY ENCODING AND DECODING SCHEME | 엔트로피 인코...   \n",
       "KR2431060B1         5-SUBSTITUTED 2-PHENYLQUINOLINE COMPLEXES MATE...   \n",
       "KR2430870B1         ANTIBODIES FOR TREATMENT OF CANCER EXPRESSING ...   \n",
       "KR2428875B1         Therapeutic nuclease compositions and methods ...   \n",
       "KR2427003B1         METHOD OF SIGNAL GENERATION AND SIGNAL GENERAT...   \n",
       "\n",
       "                                                         Title - DWPI  \\\n",
       "Publication Number                                                      \n",
       "KR2438562B1                                                       NaN   \n",
       "KR2431060B1         New compound comprising 5-substituted quinolin...   \n",
       "KR2430870B1         New claudin family of transmembrane protein an...   \n",
       "KR2428875B1         New hybrid nuclease molecule comprising nuclea...   \n",
       "KR2427003B1         Signal generation method of multiple input and...   \n",
       "\n",
       "                                                             Abstract  ...  \\\n",
       "Publication Number                                                     ...   \n",
       "KR2438562B1         Decomposing the value range of each syntax ele...  ...   \n",
       "KR2431060B1         The present invention relates to compounds com...  ...   \n",
       "KR2430870B1         The present invention relates to tumors such a...  ...   \n",
       "KR2428875B1         Hybrid nuclease molecules and methods for trea...  ...   \n",
       "KR2427003B1         A transmission method for simultaneously trans...  ...   \n",
       "\n",
       "                   Abstract - DWPI Tech Focus  \\\n",
       "Publication Number                              \n",
       "KR2438562B1                               NaN   \n",
       "KR2431060B1                               NaN   \n",
       "KR2430870B1                               NaN   \n",
       "KR2428875B1                               NaN   \n",
       "KR2427003B1                               NaN   \n",
       "\n",
       "                   Abstract - DWPI Drawing Description     Dead/Alive  \\\n",
       "Publication Number                                                      \n",
       "KR2438562B1                                        NaN          Alive   \n",
       "KR2431060B1                                        NaN          Alive   \n",
       "KR2430870B1                                        NaN  Indeterminate   \n",
       "KR2428875B1                                        NaN          Alive   \n",
       "KR2427003B1                                        NaN          Alive   \n",
       "\n",
       "                                                        IPC - Current  \\\n",
       "Publication Number                                                      \n",
       "KR2438562B1                                   H04N001913 | H04N001970   \n",
       "KR2431060B1         C07F001500 | C07C004992 | C07F001900 | C09K001...   \n",
       "KR2430870B1         C07K001628 | A61K003900 | A61K0039395 | C07K00...   \n",
       "KR2428875B1         C12N000922 | A61K003800 | A61K004768 | A61P003...   \n",
       "KR2427003B1         H04L002726 | H04B00070413 | H04B000706 | H04L0...   \n",
       "\n",
       "                                                        CPC - Current  \\\n",
       "Publication Number                                                      \n",
       "KR2438562B1                                                       NaN   \n",
       "KR2431060B1         H01L00510085 | C07C004992 | C07F001500 | C07F0...   \n",
       "KR2430870B1         C07K001630 | A61K0039395 | A61K003939591 | A61...   \n",
       "KR2428875B1         C12N000922 | A61K003800 | A61K004768 | A61K004...   \n",
       "KR2427003B1         H04B00070667 | H04B00070413 | H04B00070682 | H...   \n",
       "\n",
       "                                                           DWPI Class  \\\n",
       "Publication Number                                                      \n",
       "KR2438562B1                                                       NaN   \n",
       "KR2431060B1         E12 C |  L03 C |  T01 E |  U11 E |  U12 E |  W...   \n",
       "KR2430870B1                                            B04 C |  D16 C   \n",
       "KR2428875B1                                            B04 C |  D16 C   \n",
       "KR2427003B1                                            W01 E |  W02 E   \n",
       "\n",
       "                                                    DWPI Manual Codes  \\\n",
       "Publication Number                                                      \n",
       "KR2438562B1                                                       NaN   \n",
       "KR2431060B1         E05-R | E24-A06A | L03-E05B | L03-G05F | L03-H...   \n",
       "KR2430870B1         B04-C01G | B04-E99 | B04-G01 | B04-G0100E | B0...   \n",
       "KR2428875B1         B04-C01G | B04-E02H | B04-E08 | B04-E99 | B04-...   \n",
       "KR2427003B1                W01-A01A | W01-A09D | W02-C03A5 | W02-K07C   \n",
       "\n",
       "                   Strategic Importance Domain Influence  \\\n",
       "Publication Number                                         \n",
       "KR2438562B1                         NaN              NaN   \n",
       "KR2431060B1                         1.0              1.0   \n",
       "KR2430870B1                         1.0              1.0   \n",
       "KR2428875B1                         1.0              1.0   \n",
       "KR2427003B1                         1.0              1.0   \n",
       "\n",
       "                   Combined Patent Impact  \n",
       "Publication Number                         \n",
       "KR2438562B1                           NaN  \n",
       "KR2431060B1                           1.0  \n",
       "KR2430870B1                           1.0  \n",
       "KR2428875B1                           1.0  \n",
       "KR2427003B1                           1.0  \n",
       "\n",
       "[5 rows x 28 columns]"
      ]
     },
     "execution_count": 2,
     "metadata": {},
     "output_type": "execute_result"
    }
   ],
   "source": [
    "df = pd.read_csv('/home/yjh/csv_data/0913_patent_All_코드 파악 ML 용역 송부용_Final_UTF8.csv', index_col = 0)\n",
    "df.head()"
   ]
  },
  {
   "cell_type": "code",
   "execution_count": 3,
   "metadata": {
    "vscode": {
     "languageId": "python"
    }
   },
   "outputs": [
    {
     "name": "stdout",
     "output_type": "stream",
     "text": [
      "<class 'pandas.core.frame.DataFrame'>\n",
      "Index: 1689891 entries, KR2438562B1 to KR2022122465A\n",
      "Data columns (total 28 columns):\n",
      " #   Column                                Non-Null Count    Dtype  \n",
      "---  ------                                --------------    -----  \n",
      " 0   Application Number                    1689890 non-null  object \n",
      " 1   DWPI Accession Number                 1676649 non-null  object \n",
      " 2   Publication Year                      1688090 non-null  float64\n",
      " 3   Application Year                      1689890 non-null  float64\n",
      " 4   Publication Date                      1688090 non-null  object \n",
      " 5   Application Date                      1689890 non-null  object \n",
      " 6   Publication Country Code              1688090 non-null  object \n",
      " 7   Title                                 1689840 non-null  object \n",
      " 8   Title - DWPI                          1676650 non-null  object \n",
      " 9   Abstract                              1689849 non-null  object \n",
      " 10  Abstract (Original Language)          894375 non-null   object \n",
      " 11  Abstract - DWPI                       1676626 non-null  object \n",
      " 12  Abstract - DWPI Novelty               1484928 non-null  object \n",
      " 13  Abstract - DWPI Detailed Description  709934 non-null   object \n",
      " 14  Abstract - DWPI Activity              68526 non-null    object \n",
      " 15  Abstract - DWPI Mechanism             67482 non-null    object \n",
      " 16  Abstract - DWPI Use                   1484551 non-null  object \n",
      " 17  Abstract - DWPI Advantage             1432411 non-null  object \n",
      " 18  Abstract - DWPI Tech Focus            313932 non-null   object \n",
      " 19  Abstract - DWPI Drawing Description   1209256 non-null  object \n",
      " 20  Dead/Alive                            1689890 non-null  object \n",
      " 21  IPC - Current                         1689870 non-null  object \n",
      " 22  CPC - Current                         1631162 non-null  object \n",
      " 23  DWPI Class                            1676645 non-null  object \n",
      " 24  DWPI Manual Codes                     1637281 non-null  object \n",
      " 25  Strategic Importance                  1682561 non-null  float64\n",
      " 26  Domain Influence                      1682562 non-null  float64\n",
      " 27  Combined Patent Impact                1682562 non-null  float64\n",
      "dtypes: float64(5), object(23)\n",
      "memory usage: 373.9+ MB\n",
      "None\n"
     ]
    }
   ],
   "source": [
    "print(df.info())"
   ]
  },
  {
   "cell_type": "code",
   "execution_count": 4,
   "metadata": {
    "vscode": {
     "languageId": "python"
    }
   },
   "outputs": [
    {
     "name": "stdout",
     "output_type": "stream",
     "text": [
      "Index(['Application Number', 'DWPI Accession Number', 'Publication Year',\n",
      "       'Application Year', 'Publication Date', 'Application Date',\n",
      "       'Publication Country Code', 'Title', 'Title - DWPI', 'Abstract',\n",
      "       'Abstract (Original Language)', 'Abstract - DWPI',\n",
      "       'Abstract - DWPI Novelty', 'Abstract - DWPI Detailed Description',\n",
      "       'Abstract - DWPI Activity', 'Abstract - DWPI Mechanism',\n",
      "       'Abstract - DWPI Use', 'Abstract - DWPI Advantage',\n",
      "       'Abstract - DWPI Tech Focus', 'Abstract - DWPI Drawing Description',\n",
      "       'Dead/Alive', 'IPC - Current', 'CPC - Current', 'DWPI Class',\n",
      "       'DWPI Manual Codes', 'Strategic Importance', 'Domain Influence',\n",
      "       'Combined Patent Impact'],\n",
      "      dtype='object')\n"
     ]
    }
   ],
   "source": [
    "print(df.columns)"
   ]
  },
  {
   "cell_type": "code",
   "execution_count": 5,
   "metadata": {
    "vscode": {
     "languageId": "python"
    }
   },
   "outputs": [],
   "source": [
    "data_2col = df.loc[:, ['Abstract (Original Language)', 'IPC - Current']]\n",
    "data_2col.head()\n",
    "data_2col.to_csv(\"./data/data_2col.csv\", mode='w')"
   ]
  },
  {
   "cell_type": "code",
   "execution_count": 6,
   "metadata": {
    "vscode": {
     "languageId": "python"
    }
   },
   "outputs": [
    {
     "data": {
      "text/html": [
       "<div>\n",
       "<style scoped>\n",
       "    .dataframe tbody tr th:only-of-type {\n",
       "        vertical-align: middle;\n",
       "    }\n",
       "\n",
       "    .dataframe tbody tr th {\n",
       "        vertical-align: top;\n",
       "    }\n",
       "\n",
       "    .dataframe thead th {\n",
       "        text-align: right;\n",
       "    }\n",
       "</style>\n",
       "<table border=\"1\" class=\"dataframe\">\n",
       "  <thead>\n",
       "    <tr style=\"text-align: right;\">\n",
       "      <th></th>\n",
       "      <th>Abstract (Original Language)</th>\n",
       "      <th>IPC - Current</th>\n",
       "    </tr>\n",
       "    <tr>\n",
       "      <th>Publication Number</th>\n",
       "      <th></th>\n",
       "      <th></th>\n",
       "    </tr>\n",
       "  </thead>\n",
       "  <tbody>\n",
       "    <tr>\n",
       "      <th>KR2438562B1</th>\n",
       "      <td>NaN</td>\n",
       "      <td>H04N001913 | H04N001970</td>\n",
       "    </tr>\n",
       "    <tr>\n",
       "      <th>KR2431060B1</th>\n",
       "      <td>NaN</td>\n",
       "      <td>C07F001500 | C07C004992 | C07F001900 | C09K001...</td>\n",
       "    </tr>\n",
       "    <tr>\n",
       "      <th>KR2430870B1</th>\n",
       "      <td>NaN</td>\n",
       "      <td>C07K001628 | A61K003900 | A61K0039395 | C07K00...</td>\n",
       "    </tr>\n",
       "    <tr>\n",
       "      <th>KR2428875B1</th>\n",
       "      <td>NaN</td>\n",
       "      <td>C12N000922 | A61K003800 | A61K004768 | A61P003...</td>\n",
       "    </tr>\n",
       "    <tr>\n",
       "      <th>KR2427003B1</th>\n",
       "      <td>NaN</td>\n",
       "      <td>H04L002726 | H04B00070413 | H04B000706 | H04L0...</td>\n",
       "    </tr>\n",
       "  </tbody>\n",
       "</table>\n",
       "</div>"
      ],
      "text/plain": [
       "                   Abstract (Original Language)  \\\n",
       "Publication Number                                \n",
       "KR2438562B1                                 NaN   \n",
       "KR2431060B1                                 NaN   \n",
       "KR2430870B1                                 NaN   \n",
       "KR2428875B1                                 NaN   \n",
       "KR2427003B1                                 NaN   \n",
       "\n",
       "                                                        IPC - Current  \n",
       "Publication Number                                                     \n",
       "KR2438562B1                                   H04N001913 | H04N001970  \n",
       "KR2431060B1         C07F001500 | C07C004992 | C07F001900 | C09K001...  \n",
       "KR2430870B1         C07K001628 | A61K003900 | A61K0039395 | C07K00...  \n",
       "KR2428875B1         C12N000922 | A61K003800 | A61K004768 | A61P003...  \n",
       "KR2427003B1         H04L002726 | H04B00070413 | H04B000706 | H04L0...  "
      ]
     },
     "execution_count": 6,
     "metadata": {},
     "output_type": "execute_result"
    }
   ],
   "source": [
    "df2 = pd.read_csv('./data/data_2col.csv', index_col = 0)\n",
    "df2.head()"
   ]
  },
  {
   "cell_type": "code",
   "execution_count": 7,
   "metadata": {
    "vscode": {
     "languageId": "python"
    }
   },
   "outputs": [
    {
     "name": "stdout",
     "output_type": "stream",
     "text": [
      "Abstract (Original Language)    795516\n",
      "IPC - Current                       21\n",
      "dtype: int64\n"
     ]
    }
   ],
   "source": [
    "print(df2.isnull().sum())"
   ]
  },
  {
   "cell_type": "code",
   "execution_count": 8,
   "metadata": {
    "vscode": {
     "languageId": "python"
    }
   },
   "outputs": [
    {
     "data": {
      "text/plain": [
       "Abstract (Original Language)    0\n",
       "IPC - Current                   0\n",
       "dtype: int64"
      ]
     },
     "execution_count": 8,
     "metadata": {},
     "output_type": "execute_result"
    }
   ],
   "source": [
    "df2 = df2.dropna()\n",
    "df2 = df2.reset_index(drop=True)\n",
    "df2.isnull().sum()"
   ]
  },
  {
   "cell_type": "code",
   "execution_count": 9,
   "metadata": {
    "vscode": {
     "languageId": "python"
    }
   },
   "outputs": [
    {
     "data": {
      "text/plain": [
       "[<matplotlib.lines.Line2D at 0x7f39d4cce080>]"
      ]
     },
     "execution_count": 9,
     "metadata": {},
     "output_type": "execute_result"
    },
    {
     "data": {
      "image/png": "[encoded data removed]",
      "text/plain": [
       "<Figure size 432x288 with 1 Axes>"
      ]
     },
     "metadata": {
      "needs_background": "light"
     },
     "output_type": "display_data"
    }
   ],
   "source": [
    "plt.plot(range(len(df2)), df2['Abstract (Original Language)'].map(len))"
   ]
  },
  {
   "cell_type": "code",
   "execution_count": 10,
   "metadata": {
    "vscode": {
     "languageId": "python"
    }
   },
   "outputs": [
    {
     "data": {
      "text/html": [
       "<div>\n",
       "<style scoped>\n",
       "    .dataframe tbody tr th:only-of-type {\n",
       "        vertical-align: middle;\n",
       "    }\n",
       "\n",
       "    .dataframe tbody tr th {\n",
       "        vertical-align: top;\n",
       "    }\n",
       "\n",
       "    .dataframe thead th {\n",
       "        text-align: right;\n",
       "    }\n",
       "</style>\n",
       "<table border=\"1\" class=\"dataframe\">\n",
       "  <thead>\n",
       "    <tr style=\"text-align: right;\">\n",
       "      <th></th>\n",
       "      <th>Abstract (Original Language)</th>\n",
       "      <th>IPC - Current</th>\n",
       "      <th>length</th>\n",
       "    </tr>\n",
       "  </thead>\n",
       "  <tbody>\n",
       "    <tr>\n",
       "      <th>271614</th>\n",
       "      <td>회원정보에 포함된 멤버쉽정보 모바일단말기정보 구매한 물품정보 구매한 물품정보에 대한...</td>\n",
       "      <td>G06Q005030 | G06Q003002</td>\n",
       "      <td>31743</td>\n",
       "    </tr>\n",
       "    <tr>\n",
       "      <th>258720</th>\n",
       "      <td>회원정보에 포함된 멤버쉽정보 모바일단말기정보 구매한 물품정보 구매한 물품정보에 대한...</td>\n",
       "      <td>G06Q005030 | G06Q003002</td>\n",
       "      <td>31743</td>\n",
       "    </tr>\n",
       "    <tr>\n",
       "      <th>271630</th>\n",
       "      <td>회원정보에 포함된 멤버쉽정보 모바일단말기정보 구매한 물품정보 구매한 물품정보에 대한...</td>\n",
       "      <td>G06Q005030 | G06Q003002</td>\n",
       "      <td>31743</td>\n",
       "    </tr>\n",
       "    <tr>\n",
       "      <th>265475</th>\n",
       "      <td>회원정보에 포함된 멤버쉽정보 모바일단말기정보 구매한 물품정보 구매한 물품정보에 대한...</td>\n",
       "      <td>G06Q005030</td>\n",
       "      <td>31743</td>\n",
       "    </tr>\n",
       "    <tr>\n",
       "      <th>265474</th>\n",
       "      <td>회원정보에 포함된 멤버쉽정보 모바일단말기정보 구매한 물품정보 구매한 물품정보에 대한...</td>\n",
       "      <td>G06Q005030</td>\n",
       "      <td>31743</td>\n",
       "    </tr>\n",
       "    <tr>\n",
       "      <th>...</th>\n",
       "      <td>...</td>\n",
       "      <td>...</td>\n",
       "      <td>...</td>\n",
       "    </tr>\n",
       "    <tr>\n",
       "      <th>398999</th>\n",
       "      <td>본 발명은 개선된 레이크가 구비된 제진기에 관한 것으로, 본 발명은 다수 개로 수평...</td>\n",
       "      <td>E02B000508 | E02B001510</td>\n",
       "      <td>1093</td>\n",
       "    </tr>\n",
       "    <tr>\n",
       "      <th>433598</th>\n",
       "      <td>본 발명은 자동차 분류별 맞춤형 예방정비 안내 시스템에 관한 것이다. 보다 상세하게...</td>\n",
       "      <td>G06Q005030</td>\n",
       "      <td>1093</td>\n",
       "    </tr>\n",
       "    <tr>\n",
       "      <th>328454</th>\n",
       "      <td>본 발명은, 하기 화학식 I 또는 II의 화합물 또는 이의 약학적으로 허용가능한 산...</td>\n",
       "      <td>C07D047104 | A61K0031437 | A61K004900 | C07D04...</td>\n",
       "      <td>1093</td>\n",
       "    </tr>\n",
       "    <tr>\n",
       "      <th>575649</th>\n",
       "      <td>본 발명은 생체에 유익한 천연 광물질을 분말화 한 후 초음파 진동으로 천연 광물질에...</td>\n",
       "      <td>A61K000819 | A01N005900 | A61L000901</td>\n",
       "      <td>1093</td>\n",
       "    </tr>\n",
       "    <tr>\n",
       "      <th>217868</th>\n",
       "      <td>본 발명은 옹벽에서 배수 촉진장치로서, 상세하게는 옹벽, 비탈면, 골짜기등의 경사진...</td>\n",
       "      <td>E02B000314 | E02D002902 | E02D001720</td>\n",
       "      <td>1093</td>\n",
       "    </tr>\n",
       "  </tbody>\n",
       "</table>\n",
       "<p>10000 rows × 3 columns</p>\n",
       "</div>"
      ],
      "text/plain": [
       "                             Abstract (Original Language)  \\\n",
       "271614  회원정보에 포함된 멤버쉽정보 모바일단말기정보 구매한 물품정보 구매한 물품정보에 대한...   \n",
       "258720  회원정보에 포함된 멤버쉽정보 모바일단말기정보 구매한 물품정보 구매한 물품정보에 대한...   \n",
       "271630  회원정보에 포함된 멤버쉽정보 모바일단말기정보 구매한 물품정보 구매한 물품정보에 대한...   \n",
       "265475  회원정보에 포함된 멤버쉽정보 모바일단말기정보 구매한 물품정보 구매한 물품정보에 대한...   \n",
       "265474  회원정보에 포함된 멤버쉽정보 모바일단말기정보 구매한 물품정보 구매한 물품정보에 대한...   \n",
       "...                                                   ...   \n",
       "398999  본 발명은 개선된 레이크가 구비된 제진기에 관한 것으로, 본 발명은 다수 개로 수평...   \n",
       "433598  본 발명은 자동차 분류별 맞춤형 예방정비 안내 시스템에 관한 것이다. 보다 상세하게...   \n",
       "328454  본 발명은, 하기 화학식 I 또는 II의 화합물 또는 이의 약학적으로 허용가능한 산...   \n",
       "575649  본 발명은 생체에 유익한 천연 광물질을 분말화 한 후 초음파 진동으로 천연 광물질에...   \n",
       "217868  본 발명은 옹벽에서 배수 촉진장치로서, 상세하게는 옹벽, 비탈면, 골짜기등의 경사진...   \n",
       "\n",
       "                                            IPC - Current  length  \n",
       "271614                            G06Q005030 | G06Q003002   31743  \n",
       "258720                            G06Q005030 | G06Q003002   31743  \n",
       "271630                            G06Q005030 | G06Q003002   31743  \n",
       "265475                                         G06Q005030   31743  \n",
       "265474                                         G06Q005030   31743  \n",
       "...                                                   ...     ...  \n",
       "398999                            E02B000508 | E02B001510    1093  \n",
       "433598                                         G06Q005030    1093  \n",
       "328454  C07D047104 | A61K0031437 | A61K004900 | C07D04...    1093  \n",
       "575649               A61K000819 | A01N005900 | A61L000901    1093  \n",
       "217868               E02B000314 | E02D002902 | E02D001720    1093  \n",
       "\n",
       "[10000 rows x 3 columns]"
      ]
     },
     "execution_count": 10,
     "metadata": {},
     "output_type": "execute_result"
    }
   ],
   "source": [
    "df3 = df2\n",
    "df3['length'] = df3['Abstract (Original Language)'].map(len)\n",
    "df3 = df3.sort_values(by= 'length', ascending=False)\n",
    "df3.head(10000)"
   ]
  },
  {
   "cell_type": "code",
   "execution_count": 11,
   "metadata": {
    "vscode": {
     "languageId": "python"
    }
   },
   "outputs": [
    {
     "data": {
      "text/html": [
       "<div>\n",
       "<style scoped>\n",
       "    .dataframe tbody tr th:only-of-type {\n",
       "        vertical-align: middle;\n",
       "    }\n",
       "\n",
       "    .dataframe tbody tr th {\n",
       "        vertical-align: top;\n",
       "    }\n",
       "\n",
       "    .dataframe thead th {\n",
       "        text-align: right;\n",
       "    }\n",
       "</style>\n",
       "<table border=\"1\" class=\"dataframe\">\n",
       "  <thead>\n",
       "    <tr style=\"text-align: right;\">\n",
       "      <th></th>\n",
       "      <th>Abstract (Original Language)</th>\n",
       "      <th>IPC - Current</th>\n",
       "      <th>length</th>\n",
       "    </tr>\n",
       "  </thead>\n",
       "  <tbody>\n",
       "    <tr>\n",
       "      <th>339414</th>\n",
       "      <td>본 발명은 전지케이스의 내벽에 산소 스캐빈져(scavenger)를 포함하는 코팅층이...</td>\n",
       "      <td>H01M000202 | H01M0010052 | H01M001052</td>\n",
       "      <td>78</td>\n",
       "    </tr>\n",
       "    <tr>\n",
       "      <th>301106</th>\n",
       "      <td>본 발명은 주쇄에 벤조디티오펜을 두 개이상 포함하는 공액계 고분자를 제공함으로써, ...</td>\n",
       "      <td>C08G006112 | H01L0031042</td>\n",
       "      <td>78</td>\n",
       "    </tr>\n",
       "    <tr>\n",
       "      <th>96701</th>\n",
       "      <td>\\n\\n본 발명은 에어백 체결플랜지에서 아마추어 체결공까지 높이를 점점 낮게 플랜지...</td>\n",
       "      <td>B60R0021203 | B62D000104 | B62D000110</td>\n",
       "      <td>78</td>\n",
       "    </tr>\n",
       "    <tr>\n",
       "      <th>566980</th>\n",
       "      <td>투명전극용 보호층 조성물, 상기 투명전극용 보호층 조성물을 포함하는 투명전극용 보호...</td>\n",
       "      <td>C09D000712 | C09D000524 | C09D020100</td>\n",
       "      <td>78</td>\n",
       "    </tr>\n",
       "    <tr>\n",
       "      <th>375078</th>\n",
       "      <td>본 고안은 자외선 살균램프를 이용하여 마우스를 살균하는데 있어서, 컴퓨터 USB전...</td>\n",
       "      <td>A61L000210</td>\n",
       "      <td>78</td>\n",
       "    </tr>\n",
       "    <tr>\n",
       "      <th>...</th>\n",
       "      <td>...</td>\n",
       "      <td>...</td>\n",
       "      <td>...</td>\n",
       "    </tr>\n",
       "    <tr>\n",
       "      <th>35616</th>\n",
       "      <td>-</td>\n",
       "      <td>G02C000500 | G02C001100</td>\n",
       "      <td>1</td>\n",
       "    </tr>\n",
       "    <tr>\n",
       "      <th>395342</th>\n",
       "      <td>.</td>\n",
       "      <td>G06F000301</td>\n",
       "      <td>1</td>\n",
       "    </tr>\n",
       "    <tr>\n",
       "      <th>179176</th>\n",
       "      <td>.</td>\n",
       "      <td>A47K001110 | B08B0009027</td>\n",
       "      <td>1</td>\n",
       "    </tr>\n",
       "    <tr>\n",
       "      <th>395763</th>\n",
       "      <td>.</td>\n",
       "      <td>A63C000300 | A45B000100</td>\n",
       "      <td>1</td>\n",
       "    </tr>\n",
       "    <tr>\n",
       "      <th>180842</th>\n",
       "      <td>.</td>\n",
       "      <td>D05B009104 | A41H001700</td>\n",
       "      <td>1</td>\n",
       "    </tr>\n",
       "  </tbody>\n",
       "</table>\n",
       "<p>10000 rows × 3 columns</p>\n",
       "</div>"
      ],
      "text/plain": [
       "                             Abstract (Original Language)  \\\n",
       "339414  본 발명은 전지케이스의 내벽에 산소 스캐빈져(scavenger)를 포함하는 코팅층이...   \n",
       "301106  본 발명은 주쇄에 벤조디티오펜을 두 개이상 포함하는 공액계 고분자를 제공함으로써, ...   \n",
       "96701   \\n\\n본 발명은 에어백 체결플랜지에서 아마추어 체결공까지 높이를 점점 낮게 플랜지...   \n",
       "566980  투명전극용 보호층 조성물, 상기 투명전극용 보호층 조성물을 포함하는 투명전극용 보호...   \n",
       "375078   본 고안은 자외선 살균램프를 이용하여 마우스를 살균하는데 있어서, 컴퓨터 USB전...   \n",
       "...                                                   ...   \n",
       "35616                                                   -   \n",
       "395342                                                  .   \n",
       "179176                                                  .   \n",
       "395763                                                  .   \n",
       "180842                                                  .   \n",
       "\n",
       "                                IPC - Current  length  \n",
       "339414  H01M000202 | H01M0010052 | H01M001052      78  \n",
       "301106               C08G006112 | H01L0031042      78  \n",
       "96701   B60R0021203 | B62D000104 | B62D000110      78  \n",
       "566980   C09D000712 | C09D000524 | C09D020100      78  \n",
       "375078                             A61L000210      78  \n",
       "...                                       ...     ...  \n",
       "35616                 G02C000500 | G02C001100       1  \n",
       "395342                             G06F000301       1  \n",
       "179176               A47K001110 | B08B0009027       1  \n",
       "395763                A63C000300 | A45B000100       1  \n",
       "180842                D05B009104 | A41H001700       1  \n",
       "\n",
       "[10000 rows x 3 columns]"
      ]
     },
     "execution_count": 11,
     "metadata": {},
     "output_type": "execute_result"
    }
   ],
   "source": [
    "df3.tail(10000)"
   ]
  },
  {
   "cell_type": "code",
   "execution_count": 12,
   "metadata": {
    "vscode": {
     "languageId": "python"
    }
   },
   "outputs": [
    {
     "data": {
      "text/html": [
       "<div>\n",
       "<style scoped>\n",
       "    .dataframe tbody tr th:only-of-type {\n",
       "        vertical-align: middle;\n",
       "    }\n",
       "\n",
       "    .dataframe tbody tr th {\n",
       "        vertical-align: top;\n",
       "    }\n",
       "\n",
       "    .dataframe thead th {\n",
       "        text-align: right;\n",
       "    }\n",
       "</style>\n",
       "<table border=\"1\" class=\"dataframe\">\n",
       "  <thead>\n",
       "    <tr style=\"text-align: right;\">\n",
       "      <th></th>\n",
       "      <th>Abstract (Original Language)</th>\n",
       "      <th>IPC - Current</th>\n",
       "      <th>length</th>\n",
       "    </tr>\n",
       "  </thead>\n",
       "  <tbody>\n",
       "    <tr>\n",
       "      <th>0</th>\n",
       "      <td>본 발명은 ＩＯＴ스마트 플랫폼을 이용한 버스 냉난방 제어방법에 관한 것으로서, 본 ...</td>\n",
       "      <td>F25B001300 | B60H000100 | B60N000500 | F25B004900</td>\n",
       "      <td>999</td>\n",
       "    </tr>\n",
       "    <tr>\n",
       "      <th>1</th>\n",
       "      <td>본 발명은 PVC 등과 같은 필름을 열융착함에 따른 유해가스가 전혀 발생하지 않고 ...</td>\n",
       "      <td>B32B003806 | B32B002708 | B32B002740 | B32B003...</td>\n",
       "      <td>999</td>\n",
       "    </tr>\n",
       "    <tr>\n",
       "      <th>2</th>\n",
       "      <td>본 발명은 헤드셋중에서 블루투스용 헤드셋에 관한 것으로서 기존 일반 이어폰이나 헤드...</td>\n",
       "      <td>H04R000110</td>\n",
       "      <td>999</td>\n",
       "    </tr>\n",
       "    <tr>\n",
       "      <th>3</th>\n",
       "      <td>본 발명은 설치 지점이 높은 공장용 LED 램프, 옥외용 LED 보안등, 옥외용 L...</td>\n",
       "      <td>F21V002970 | F21K000920 | F21V001712</td>\n",
       "      <td>999</td>\n",
       "    </tr>\n",
       "    <tr>\n",
       "      <th>4</th>\n",
       "      <td>본 발명은 인쇄하고자 하는 망사직물원단이 무한궤도의 컨베이어벨트에 다수의 열로 정렬...</td>\n",
       "      <td>B41M000306 | B41F001900 | D06C002304</td>\n",
       "      <td>999</td>\n",
       "    </tr>\n",
       "  </tbody>\n",
       "</table>\n",
       "</div>"
      ],
      "text/plain": [
       "                        Abstract (Original Language)  \\\n",
       "0  본 발명은 ＩＯＴ스마트 플랫폼을 이용한 버스 냉난방 제어방법에 관한 것으로서, 본 ...   \n",
       "1  본 발명은 PVC 등과 같은 필름을 열융착함에 따른 유해가스가 전혀 발생하지 않고 ...   \n",
       "2  본 발명은 헤드셋중에서 블루투스용 헤드셋에 관한 것으로서 기존 일반 이어폰이나 헤드...   \n",
       "3  본 발명은 설치 지점이 높은 공장용 LED 램프, 옥외용 LED 보안등, 옥외용 L...   \n",
       "4  본 발명은 인쇄하고자 하는 망사직물원단이 무한궤도의 컨베이어벨트에 다수의 열로 정렬...   \n",
       "\n",
       "                                       IPC - Current  length  \n",
       "0  F25B001300 | B60H000100 | B60N000500 | F25B004900     999  \n",
       "1  B32B003806 | B32B002708 | B32B002740 | B32B003...     999  \n",
       "2                                         H04R000110     999  \n",
       "3               F21V002970 | F21K000920 | F21V001712     999  \n",
       "4               B41M000306 | B41F001900 | D06C002304     999  "
      ]
     },
     "execution_count": 12,
     "metadata": {},
     "output_type": "execute_result"
    }
   ],
   "source": [
    "preprocessed_df = df3[df3['length']< 1000]\n",
    "preprocessed_df = preprocessed_df[preprocessed_df['length']> 50]\n",
    "preprocessed_df = preprocessed_df.reset_index(drop=True)\n",
    "preprocessed_df.head()"
   ]
  },
  {
   "cell_type": "code",
   "execution_count": 13,
   "metadata": {
    "vscode": {
     "languageId": "python"
    }
   },
   "outputs": [
    {
     "data": {
      "text/plain": [
       "876495"
      ]
     },
     "execution_count": 13,
     "metadata": {},
     "output_type": "execute_result"
    }
   ],
   "source": [
    "len(preprocessed_df)"
   ]
  },
  {
   "cell_type": "code",
   "execution_count": 18,
   "metadata": {
    "vscode": {
     "languageId": "python"
    }
   },
   "outputs": [
    {
     "name": "stdout",
     "output_type": "stream",
     "text": [
      "Strart\n"
     ]
    },
    {
     "name": "stderr",
     "output_type": "stream",
     "text": [
      "  0%|          | 0/876495 [00:00<?, ?it/s]/tmp/ipykernel_2638/344424770.py:17: SettingWithCopyWarning: \n",
      "A value is trying to be set on a copy of a slice from a DataFrame\n",
      "\n",
      "See the caveats in the documentation: https://pandas.pydata.org/pandas-docs/stable/user_guide/indexing.html#returning-a-view-versus-a-copy\n",
      "  preprocessed_df['IPC - Nchar'][i] = cur_str\n",
      "100%|██████████| 876495/876495 [00:16<00:00, 53575.29it/s]\n"
     ]
    }
   ],
   "source": [
    "import tqdm\n",
    "\n",
    "preprocessed_df['IPC - Nchar'] = 0\n",
    "num_char = 4\n",
    "\n",
    "print(\"Strart\")\n",
    "for i in tqdm.tqdm(range(len(preprocessed_df))):\n",
    "    cur_str = ''\n",
    "    try:\n",
    "        cur_data = preprocessed_df['IPC - Current'][i].split('|')\n",
    "    except:\n",
    "        preprocessed_df['IPC - Nchar'][i] = cur_data[:num_char]\n",
    "    for d in cur_data:\n",
    "        d = d.strip()\n",
    "        cur_str += d[:num_char] + '|'\n",
    "    cur_str = cur_str[:-1]\n",
    "    preprocessed_df['IPC - Nchar'][i] = cur_str"
   ]
  },
  {
   "cell_type": "code",
   "execution_count": 19,
   "metadata": {
    "vscode": {
     "languageId": "python"
    }
   },
   "outputs": [
    {
     "data": {
      "text/html": [
       "<div>\n",
       "<style scoped>\n",
       "    .dataframe tbody tr th:only-of-type {\n",
       "        vertical-align: middle;\n",
       "    }\n",
       "\n",
       "    .dataframe tbody tr th {\n",
       "        vertical-align: top;\n",
       "    }\n",
       "\n",
       "    .dataframe thead th {\n",
       "        text-align: right;\n",
       "    }\n",
       "</style>\n",
       "<table border=\"1\" class=\"dataframe\">\n",
       "  <thead>\n",
       "    <tr style=\"text-align: right;\">\n",
       "      <th></th>\n",
       "      <th>Abstract (Original Language)</th>\n",
       "      <th>IPC - Current</th>\n",
       "      <th>length</th>\n",
       "      <th>IPC - Nchar</th>\n",
       "    </tr>\n",
       "  </thead>\n",
       "  <tbody>\n",
       "    <tr>\n",
       "      <th>0</th>\n",
       "      <td>본 발명은 ＩＯＴ스마트 플랫폼을 이용한 버스 냉난방 제어방법에 관한 것으로서, 본 ...</td>\n",
       "      <td>F25B001300 | B60H000100 | B60N000500 | F25B004900</td>\n",
       "      <td>999</td>\n",
       "      <td>F25B|B60H|B60N|F25B</td>\n",
       "    </tr>\n",
       "    <tr>\n",
       "      <th>1</th>\n",
       "      <td>본 발명은 PVC 등과 같은 필름을 열융착함에 따른 유해가스가 전혀 발생하지 않고 ...</td>\n",
       "      <td>B32B003806 | B32B002708 | B32B002740 | B32B003...</td>\n",
       "      <td>999</td>\n",
       "      <td>B32B|B32B|B32B|B32B|B32B|B60N</td>\n",
       "    </tr>\n",
       "    <tr>\n",
       "      <th>2</th>\n",
       "      <td>본 발명은 헤드셋중에서 블루투스용 헤드셋에 관한 것으로서 기존 일반 이어폰이나 헤드...</td>\n",
       "      <td>H04R000110</td>\n",
       "      <td>999</td>\n",
       "      <td>H04R</td>\n",
       "    </tr>\n",
       "    <tr>\n",
       "      <th>3</th>\n",
       "      <td>본 발명은 설치 지점이 높은 공장용 LED 램프, 옥외용 LED 보안등, 옥외용 L...</td>\n",
       "      <td>F21V002970 | F21K000920 | F21V001712</td>\n",
       "      <td>999</td>\n",
       "      <td>F21V|F21K|F21V</td>\n",
       "    </tr>\n",
       "    <tr>\n",
       "      <th>4</th>\n",
       "      <td>본 발명은 인쇄하고자 하는 망사직물원단이 무한궤도의 컨베이어벨트에 다수의 열로 정렬...</td>\n",
       "      <td>B41M000306 | B41F001900 | D06C002304</td>\n",
       "      <td>999</td>\n",
       "      <td>B41M|B41F|D06C</td>\n",
       "    </tr>\n",
       "  </tbody>\n",
       "</table>\n",
       "</div>"
      ],
      "text/plain": [
       "                        Abstract (Original Language)  \\\n",
       "0  본 발명은 ＩＯＴ스마트 플랫폼을 이용한 버스 냉난방 제어방법에 관한 것으로서, 본 ...   \n",
       "1  본 발명은 PVC 등과 같은 필름을 열융착함에 따른 유해가스가 전혀 발생하지 않고 ...   \n",
       "2  본 발명은 헤드셋중에서 블루투스용 헤드셋에 관한 것으로서 기존 일반 이어폰이나 헤드...   \n",
       "3  본 발명은 설치 지점이 높은 공장용 LED 램프, 옥외용 LED 보안등, 옥외용 L...   \n",
       "4  본 발명은 인쇄하고자 하는 망사직물원단이 무한궤도의 컨베이어벨트에 다수의 열로 정렬...   \n",
       "\n",
       "                                       IPC - Current  length  \\\n",
       "0  F25B001300 | B60H000100 | B60N000500 | F25B004900     999   \n",
       "1  B32B003806 | B32B002708 | B32B002740 | B32B003...     999   \n",
       "2                                         H04R000110     999   \n",
       "3               F21V002970 | F21K000920 | F21V001712     999   \n",
       "4               B41M000306 | B41F001900 | D06C002304     999   \n",
       "\n",
       "                     IPC - Nchar  \n",
       "0            F25B|B60H|B60N|F25B  \n",
       "1  B32B|B32B|B32B|B32B|B32B|B60N  \n",
       "2                           H04R  \n",
       "3                 F21V|F21K|F21V  \n",
       "4                 B41M|B41F|D06C  "
      ]
     },
     "execution_count": 19,
     "metadata": {},
     "output_type": "execute_result"
    }
   ],
   "source": [
    "preprocessed_df.head()"
   ]
  },
  {
   "cell_type": "code",
   "execution_count": 20,
   "metadata": {
    "vscode": {
     "languageId": "python"
    }
   },
   "outputs": [],
   "source": [
    "preprocessed_df = preprocessed_df.loc[:, ['Abstract (Original Language)', 'IPC - Current', 'IPC - Nchar']]\n",
    "preprocessed_df.to_csv(\"./data/preprocessed_data.csv\", mode='w')"
   ]
  },
  {
   "cell_type": "code",
   "execution_count": 21,
   "metadata": {
    "vscode": {
     "languageId": "python"
    }
   },
   "outputs": [
    {
     "data": {
      "text/html": [
       "<div>\n",
       "<style scoped>\n",
       "    .dataframe tbody tr th:only-of-type {\n",
       "        vertical-align: middle;\n",
       "    }\n",
       "\n",
       "    .dataframe tbody tr th {\n",
       "        vertical-align: top;\n",
       "    }\n",
       "\n",
       "    .dataframe thead th {\n",
       "        text-align: right;\n",
       "    }\n",
       "</style>\n",
       "<table border=\"1\" class=\"dataframe\">\n",
       "  <thead>\n",
       "    <tr style=\"text-align: right;\">\n",
       "      <th></th>\n",
       "      <th>Abstract (Original Language)</th>\n",
       "      <th>IPC - Current</th>\n",
       "      <th>IPC - Nchar</th>\n",
       "    </tr>\n",
       "  </thead>\n",
       "  <tbody>\n",
       "    <tr>\n",
       "      <th>0</th>\n",
       "      <td>본 발명은 ＩＯＴ스마트 플랫폼을 이용한 버스 냉난방 제어방법에 관한 것으로서, 본 ...</td>\n",
       "      <td>F25B001300 | B60H000100 | B60N000500 | F25B004900</td>\n",
       "      <td>F25B|B60H|B60N|F25B</td>\n",
       "    </tr>\n",
       "    <tr>\n",
       "      <th>1</th>\n",
       "      <td>본 발명은 PVC 등과 같은 필름을 열융착함에 따른 유해가스가 전혀 발생하지 않고 ...</td>\n",
       "      <td>B32B003806 | B32B002708 | B32B002740 | B32B003...</td>\n",
       "      <td>B32B|B32B|B32B|B32B|B32B|B60N</td>\n",
       "    </tr>\n",
       "    <tr>\n",
       "      <th>2</th>\n",
       "      <td>본 발명은 헤드셋중에서 블루투스용 헤드셋에 관한 것으로서 기존 일반 이어폰이나 헤드...</td>\n",
       "      <td>H04R000110</td>\n",
       "      <td>H04R</td>\n",
       "    </tr>\n",
       "    <tr>\n",
       "      <th>3</th>\n",
       "      <td>본 발명은 설치 지점이 높은 공장용 LED 램프, 옥외용 LED 보안등, 옥외용 L...</td>\n",
       "      <td>F21V002970 | F21K000920 | F21V001712</td>\n",
       "      <td>F21V|F21K|F21V</td>\n",
       "    </tr>\n",
       "    <tr>\n",
       "      <th>4</th>\n",
       "      <td>본 발명은 인쇄하고자 하는 망사직물원단이 무한궤도의 컨베이어벨트에 다수의 열로 정렬...</td>\n",
       "      <td>B41M000306 | B41F001900 | D06C002304</td>\n",
       "      <td>B41M|B41F|D06C</td>\n",
       "    </tr>\n",
       "  </tbody>\n",
       "</table>\n",
       "</div>"
      ],
      "text/plain": [
       "                        Abstract (Original Language)  \\\n",
       "0  본 발명은 ＩＯＴ스마트 플랫폼을 이용한 버스 냉난방 제어방법에 관한 것으로서, 본 ...   \n",
       "1  본 발명은 PVC 등과 같은 필름을 열융착함에 따른 유해가스가 전혀 발생하지 않고 ...   \n",
       "2  본 발명은 헤드셋중에서 블루투스용 헤드셋에 관한 것으로서 기존 일반 이어폰이나 헤드...   \n",
       "3  본 발명은 설치 지점이 높은 공장용 LED 램프, 옥외용 LED 보안등, 옥외용 L...   \n",
       "4  본 발명은 인쇄하고자 하는 망사직물원단이 무한궤도의 컨베이어벨트에 다수의 열로 정렬...   \n",
       "\n",
       "                                       IPC - Current  \\\n",
       "0  F25B001300 | B60H000100 | B60N000500 | F25B004900   \n",
       "1  B32B003806 | B32B002708 | B32B002740 | B32B003...   \n",
       "2                                         H04R000110   \n",
       "3               F21V002970 | F21K000920 | F21V001712   \n",
       "4               B41M000306 | B41F001900 | D06C002304   \n",
       "\n",
       "                     IPC - Nchar  \n",
       "0            F25B|B60H|B60N|F25B  \n",
       "1  B32B|B32B|B32B|B32B|B32B|B60N  \n",
       "2                           H04R  \n",
       "3                 F21V|F21K|F21V  \n",
       "4                 B41M|B41F|D06C  "
      ]
     },
     "execution_count": 21,
     "metadata": {},
     "output_type": "execute_result"
    }
   ],
   "source": [
    "preprocessed_df.head()"
   ]
  },
  {
   "cell_type": "code",
   "execution_count": 22,
   "metadata": {
    "vscode": {
     "languageId": "python"
    }
   },
   "outputs": [],
   "source": [
    "data_light = preprocessed_df.iloc[range(10000), :]"
   ]
  },
  {
   "cell_type": "code",
   "execution_count": 23,
   "metadata": {
    "vscode": {
     "languageId": "python"
    }
   },
   "outputs": [
    {
     "data": {
      "text/html": [
       "<div>\n",
       "<style scoped>\n",
       "    .dataframe tbody tr th:only-of-type {\n",
       "        vertical-align: middle;\n",
       "    }\n",
       "\n",
       "    .dataframe tbody tr th {\n",
       "        vertical-align: top;\n",
       "    }\n",
       "\n",
       "    .dataframe thead th {\n",
       "        text-align: right;\n",
       "    }\n",
       "</style>\n",
       "<table border=\"1\" class=\"dataframe\">\n",
       "  <thead>\n",
       "    <tr style=\"text-align: right;\">\n",
       "      <th></th>\n",
       "      <th>Abstract (Original Language)</th>\n",
       "      <th>IPC - Current</th>\n",
       "      <th>IPC - Nchar</th>\n",
       "    </tr>\n",
       "  </thead>\n",
       "  <tbody>\n",
       "    <tr>\n",
       "      <th>0</th>\n",
       "      <td>본 발명은 ＩＯＴ스마트 플랫폼을 이용한 버스 냉난방 제어방법에 관한 것으로서, 본 ...</td>\n",
       "      <td>F25B001300 | B60H000100 | B60N000500 | F25B004900</td>\n",
       "      <td>F25B|B60H|B60N|F25B</td>\n",
       "    </tr>\n",
       "    <tr>\n",
       "      <th>1</th>\n",
       "      <td>본 발명은 PVC 등과 같은 필름을 열융착함에 따른 유해가스가 전혀 발생하지 않고 ...</td>\n",
       "      <td>B32B003806 | B32B002708 | B32B002740 | B32B003...</td>\n",
       "      <td>B32B|B32B|B32B|B32B|B32B|B60N</td>\n",
       "    </tr>\n",
       "    <tr>\n",
       "      <th>2</th>\n",
       "      <td>본 발명은 헤드셋중에서 블루투스용 헤드셋에 관한 것으로서 기존 일반 이어폰이나 헤드...</td>\n",
       "      <td>H04R000110</td>\n",
       "      <td>H04R</td>\n",
       "    </tr>\n",
       "    <tr>\n",
       "      <th>3</th>\n",
       "      <td>본 발명은 설치 지점이 높은 공장용 LED 램프, 옥외용 LED 보안등, 옥외용 L...</td>\n",
       "      <td>F21V002970 | F21K000920 | F21V001712</td>\n",
       "      <td>F21V|F21K|F21V</td>\n",
       "    </tr>\n",
       "    <tr>\n",
       "      <th>4</th>\n",
       "      <td>본 발명은 인쇄하고자 하는 망사직물원단이 무한궤도의 컨베이어벨트에 다수의 열로 정렬...</td>\n",
       "      <td>B41M000306 | B41F001900 | D06C002304</td>\n",
       "      <td>B41M|B41F|D06C</td>\n",
       "    </tr>\n",
       "  </tbody>\n",
       "</table>\n",
       "</div>"
      ],
      "text/plain": [
       "                        Abstract (Original Language)  \\\n",
       "0  본 발명은 ＩＯＴ스마트 플랫폼을 이용한 버스 냉난방 제어방법에 관한 것으로서, 본 ...   \n",
       "1  본 발명은 PVC 등과 같은 필름을 열융착함에 따른 유해가스가 전혀 발생하지 않고 ...   \n",
       "2  본 발명은 헤드셋중에서 블루투스용 헤드셋에 관한 것으로서 기존 일반 이어폰이나 헤드...   \n",
       "3  본 발명은 설치 지점이 높은 공장용 LED 램프, 옥외용 LED 보안등, 옥외용 L...   \n",
       "4  본 발명은 인쇄하고자 하는 망사직물원단이 무한궤도의 컨베이어벨트에 다수의 열로 정렬...   \n",
       "\n",
       "                                       IPC - Current  \\\n",
       "0  F25B001300 | B60H000100 | B60N000500 | F25B004900   \n",
       "1  B32B003806 | B32B002708 | B32B002740 | B32B003...   \n",
       "2                                         H04R000110   \n",
       "3               F21V002970 | F21K000920 | F21V001712   \n",
       "4               B41M000306 | B41F001900 | D06C002304   \n",
       "\n",
       "                     IPC - Nchar  \n",
       "0            F25B|B60H|B60N|F25B  \n",
       "1  B32B|B32B|B32B|B32B|B32B|B60N  \n",
       "2                           H04R  \n",
       "3                 F21V|F21K|F21V  \n",
       "4                 B41M|B41F|D06C  "
      ]
     },
     "execution_count": 23,
     "metadata": {},
     "output_type": "execute_result"
    }
   ],
   "source": [
    "data_light.head()"
   ]
  },
  {
   "cell_type": "code",
   "execution_count": 24,
   "metadata": {
    "vscode": {
     "languageId": "python"
    }
   },
   "outputs": [
    {
     "data": {
      "text/plain": [
       "10000"
      ]
     },
     "execution_count": 24,
     "metadata": {},
     "output_type": "execute_result"
    }
   ],
   "source": [
    "len(data_light)"
   ]
  },
  {
   "cell_type": "code",
   "execution_count": 25,
   "metadata": {
    "vscode": {
     "languageId": "python"
    }
   },
   "outputs": [],
   "source": [
    "data_light.to_csv(\"./data/preprocessed_data_light.csv\", mode='w')"
   ]
  },
  {
   "cell_type": "code",
   "execution_count": 2,
   "metadata": {
    "vscode": {
     "languageId": "python"
    }
   },
   "outputs": [],
   "source": [
    "preprocessed_df = pd.read_csv('./data/preprocessed_data.csv', index_col = 0)"
   ]
  },
  {
   "cell_type": "code",
   "execution_count": 23,
   "metadata": {
    "vscode": {
     "languageId": "python"
    }
   },
   "outputs": [
    {
     "data": {
      "application/vnd.jupyter.widget-view+json": {
       "model_id": "cab791ebf51b405cabfcbbfaf19f3796",
       "version_major": 2,
       "version_minor": 0
      },
      "text/plain": [
       "  0%|          | 0/876495 [00:00<?, ?it/s]"
      ]
     },
     "metadata": {},
     "output_type": "display_data"
    },
    {
     "data": {
      "image/png": "[encoded data removed]",
      "text/plain": [
       "<Figure size 720x540 with 1 Axes>"
      ]
     },
     "metadata": {
      "needs_background": "light"
     },
     "output_type": "display_data"
    }
   ],
   "source": [
    "feature = preprocessed_df['IPC - Nchar']\n",
    "def func1(input):\n",
    "    return input[:4]\n",
    "result = parmap.map(func1, feature, pm_pbar=True, pm_processes=16)\n",
    "mySeries = pd.Series(result) \n",
    "\n",
    "plt.figure(figsize=(10,7.5))\n",
    "plt.title('Label Count', fontsize=20)\n",
    "\n",
    "temp = mySeries.value_counts()\n",
    "plt.bar(temp.keys(), temp.values, width=1.0, color='b', alpha=0.5)\n",
    "\n",
    "plt.xticks(temp.keys(), fontsize=8) # x축 값, 폰트 크기 설정\n",
    "# plt.tight_layout(rect=[0, 0.03, 1, 0.95]) # 레이아웃 설정\n",
    "plt.show() # 그래프 나타내기"
   ]
  },
  {
   "cell_type": "code",
   "execution_count": 25,
   "metadata": {
    "vscode": {
     "languageId": "python"
    }
   },
   "outputs": [
    {
     "data": {
      "text/plain": [
       "<bound method Series.sort_values of H01L    38616\n",
       "G06F    36524\n",
       "G06Q    35703\n",
       "A61K    30127\n",
       "H04N    16376\n",
       "        ...  \n",
       "C06F        1\n",
       "B62C        1\n",
       "G06E        1\n",
       "G06J        1\n",
       "B41B        1\n",
       "Length: 627, dtype: int64>"
      ]
     },
     "execution_count": 25,
     "metadata": {},
     "output_type": "execute_result"
    }
   ],
   "source": [
    "temp.sort_values()"
   ]
  },
  {
   "cell_type": "code",
   "execution_count": null,
   "metadata": {
    "vscode": {
     "languageId": "python"
    }
   },
   "outputs": [],
   "source": []
  }
 ],
 "metadata": {
  "kernelspec": {
   "display_name": "Python 3 (ipykernel)",
   "language": "python",
   "name": "python3"
  },
  "orig_nbformat": 4,
  "vscode": {
   "interpreter": {
    "hash": "949777d72b0d2535278d3dc13498b2535136f6dfe0678499012e853ee9abcab1"
   }
  }
 },
 "nbformat": 4,
 "nbformat_minor": 2
}
